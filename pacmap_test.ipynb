{
 "cells": [
  {
   "cell_type": "code",
   "execution_count": 3,
   "id": "9d3add36",
   "metadata": {},
   "outputs": [
    {
     "name": "stdout",
     "output_type": "stream",
     "text": [
      "Imports works!\n"
     ]
    }
   ],
   "source": [
    "import numpy as np\n",
    "import pandas as pd\n",
    "import matplotlib.pyplot as plt\n",
    "import seaborn as sns\n",
    "import plotly.express as px\n",
    "\n",
    "from sklearn.decomposition import PCA\n",
    "from sklearn.manifold import TSNE\n",
    "import umap\n",
    "import pacmap\n",
    "import trimap\n",
    "\n",
    "from geometricus import get_invariants_for_structures, Geometricus, ShapemerLearn\n",
    "\n",
    "print(\"Imports works!\")"
   ]
  }
 ],
 "metadata": {
  "kernelspec": {
   "display_name": "dimred2",
   "language": "python",
   "name": "python3"
  },
  "language_info": {
   "codemirror_mode": {
    "name": "ipython",
    "version": 3
   },
   "file_extension": ".py",
   "mimetype": "text/x-python",
   "name": "python",
   "nbconvert_exporter": "python",
   "pygments_lexer": "ipython3",
   "version": "3.10.17"
  }
 },
 "nbformat": 4,
 "nbformat_minor": 5
}
